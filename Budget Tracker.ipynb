{
 "cells": [
  {
   "cell_type": "code",
   "execution_count": 5,
   "id": "00cb8eaf-a33f-4f84-954a-b44db97a538d",
   "metadata": {},
   "outputs": [
    {
     "name": "stdout",
     "output_type": "stream",
     "text": [
      "\n",
      "--- Budget Tracker Menu ---\n",
      "1. Add Transaction\n",
      "2. List All Transactions\n",
      "3. Filter Transactions\n",
      "4. View Summary\n",
      "5. Delete Transaction\n",
      "6. Exit\n"
     ]
    },
    {
     "name": "stdin",
     "output_type": "stream",
     "text": [
      "Choose an option (1-6):  1\n",
      "Enter type (income/expense):  Income\n",
      "Enter amount:  50000\n",
      "Enter category:  Salary\n",
      "Enter notes (optional):  -\n"
     ]
    },
    {
     "name": "stdout",
     "output_type": "stream",
     "text": [
      "Transaction added successfully.\n"
     ]
    },
    {
     "name": "stdin",
     "output_type": "stream",
     "text": [
      "Do you want to add another income? (yes/no):  yes\n",
      "Enter amount:  8000\n",
      "Enter category:  Rental\n",
      "Enter notes (optional):  -\n"
     ]
    },
    {
     "name": "stdout",
     "output_type": "stream",
     "text": [
      "Transaction added successfully.\n"
     ]
    },
    {
     "name": "stdin",
     "output_type": "stream",
     "text": [
      "Do you want to add another income? (yes/no):  no\n"
     ]
    },
    {
     "name": "stdout",
     "output_type": "stream",
     "text": [
      "\n",
      "--- Budget Tracker Menu ---\n",
      "1. Add Transaction\n",
      "2. List All Transactions\n",
      "3. Filter Transactions\n",
      "4. View Summary\n",
      "5. Delete Transaction\n",
      "6. Exit\n"
     ]
    },
    {
     "name": "stdin",
     "output_type": "stream",
     "text": [
      "Choose an option (1-6):  1\n",
      "Enter type (income/expense):  expense\n",
      "Enter amount:  5000\n",
      "Enter category:  grocery\n",
      "Enter notes (optional):  -\n"
     ]
    },
    {
     "name": "stdout",
     "output_type": "stream",
     "text": [
      "Transaction added successfully.\n"
     ]
    },
    {
     "name": "stdin",
     "output_type": "stream",
     "text": [
      "Do you want to add another expense? (yes/no):  yes\n",
      "Enter amount:  3000\n",
      "Enter category:  home furnishing\n",
      "Enter notes (optional):  -\n"
     ]
    },
    {
     "name": "stdout",
     "output_type": "stream",
     "text": [
      "Transaction added successfully.\n"
     ]
    },
    {
     "name": "stdin",
     "output_type": "stream",
     "text": [
      "Do you want to add another expense? (yes/no):  yes\n",
      "Enter amount:  2000\n",
      "Enter category:  miscellaneous\n",
      "Enter notes (optional):  -\n"
     ]
    },
    {
     "name": "stdout",
     "output_type": "stream",
     "text": [
      "Transaction added successfully.\n"
     ]
    },
    {
     "name": "stdin",
     "output_type": "stream",
     "text": [
      "Do you want to add another expense? (yes/no):  1000\n"
     ]
    },
    {
     "name": "stdout",
     "output_type": "stream",
     "text": [
      "\n",
      "--- Budget Tracker Menu ---\n",
      "1. Add Transaction\n",
      "2. List All Transactions\n",
      "3. Filter Transactions\n",
      "4. View Summary\n",
      "5. Delete Transaction\n",
      "6. Exit\n"
     ]
    },
    {
     "name": "stdin",
     "output_type": "stream",
     "text": [
      "Choose an option (1-6):  1\n",
      "Enter type (income/expense):  expense\n",
      "Enter amount:  1000\n",
      "Enter category:  electricity\n",
      "Enter notes (optional):  -\n"
     ]
    },
    {
     "name": "stdout",
     "output_type": "stream",
     "text": [
      "Transaction added successfully.\n"
     ]
    },
    {
     "name": "stdin",
     "output_type": "stream",
     "text": [
      "Do you want to add another expense? (yes/no):  no\n"
     ]
    },
    {
     "name": "stdout",
     "output_type": "stream",
     "text": [
      "\n",
      "--- Budget Tracker Menu ---\n",
      "1. Add Transaction\n",
      "2. List All Transactions\n",
      "3. Filter Transactions\n",
      "4. View Summary\n",
      "5. Delete Transaction\n",
      "6. Exit\n"
     ]
    },
    {
     "name": "stdin",
     "output_type": "stream",
     "text": [
      "Choose an option (1-6):  2\n"
     ]
    },
    {
     "name": "stdout",
     "output_type": "stream",
     "text": [
      "\n",
      "All Transactions:\n",
      "Income | 50000.00 | Salary | -\n",
      "Income | 8000.00 | Rental | -\n",
      "Expense | 5000.00 | grocery | -\n",
      "Expense | 3000.00 | home furnishing | -\n",
      "Expense | 2000.00 | miscellaneous | -\n",
      "Expense | 1000.00 | electricity | -\n",
      "\n",
      "--- Budget Tracker Menu ---\n",
      "1. Add Transaction\n",
      "2. List All Transactions\n",
      "3. Filter Transactions\n",
      "4. View Summary\n",
      "5. Delete Transaction\n",
      "6. Exit\n"
     ]
    },
    {
     "name": "stdin",
     "output_type": "stream",
     "text": [
      "Choose an option (1-6):  3\n",
      "Filter by (type/category):  type\n",
      "Enter type (income/expense):  income\n"
     ]
    },
    {
     "name": "stdout",
     "output_type": "stream",
     "text": [
      "Income | 50000.00 | Salary | -\n",
      "Income | 8000.00 | Rental | -\n",
      "\n",
      "--- Budget Tracker Menu ---\n",
      "1. Add Transaction\n",
      "2. List All Transactions\n",
      "3. Filter Transactions\n",
      "4. View Summary\n",
      "5. Delete Transaction\n",
      "6. Exit\n"
     ]
    },
    {
     "name": "stdin",
     "output_type": "stream",
     "text": [
      "Choose an option (1-6):  4\n"
     ]
    },
    {
     "name": "stdout",
     "output_type": "stream",
     "text": [
      "\n",
      "--- Summary ---\n",
      "Total Income : Rs 58000.00\n",
      "Total Expense: Rs 11000.00\n",
      "Net Balance  : Rs 47000.00\n",
      "\n",
      "--- Budget Tracker Menu ---\n",
      "1. Add Transaction\n",
      "2. List All Transactions\n",
      "3. Filter Transactions\n",
      "4. View Summary\n",
      "5. Delete Transaction\n",
      "6. Exit\n"
     ]
    },
    {
     "name": "stdin",
     "output_type": "stream",
     "text": [
      "Choose an option (1-6):  1\n",
      "Enter type (income/expense):  expense\n",
      "Enter amount:  500\n",
      "Enter category:  stationary\n",
      "Enter notes (optional):  -\n"
     ]
    },
    {
     "name": "stdout",
     "output_type": "stream",
     "text": [
      "Transaction added successfully.\n"
     ]
    },
    {
     "name": "stdin",
     "output_type": "stream",
     "text": [
      "Do you want to add another expense? (yes/no):  no\n"
     ]
    },
    {
     "name": "stdout",
     "output_type": "stream",
     "text": [
      "\n",
      "--- Budget Tracker Menu ---\n",
      "1. Add Transaction\n",
      "2. List All Transactions\n",
      "3. Filter Transactions\n",
      "4. View Summary\n",
      "5. Delete Transaction\n",
      "6. Exit\n"
     ]
    },
    {
     "name": "stdin",
     "output_type": "stream",
     "text": [
      "Choose an option (1-6):  5\n"
     ]
    },
    {
     "name": "stdout",
     "output_type": "stream",
     "text": [
      "\n",
      "Transactions:\n",
      "1. Income | 50000.00 | Salary | -\n",
      "2. Income | 8000.00 | Rental | -\n",
      "3. Expense | 5000.00 | grocery | -\n",
      "4. Expense | 3000.00 | home furnishing | -\n",
      "5. Expense | 2000.00 | miscellaneous | -\n",
      "6. Expense | 1000.00 | electricity | -\n",
      "7. Expense | 500.00 | stationary | -\n"
     ]
    },
    {
     "name": "stdin",
     "output_type": "stream",
     "text": [
      "Enter the transaction number to delete:  7\n"
     ]
    },
    {
     "name": "stdout",
     "output_type": "stream",
     "text": [
      "Deleted transaction: Expense | 500.00 | stationary | -\n",
      "\n",
      "--- Budget Tracker Menu ---\n",
      "1. Add Transaction\n",
      "2. List All Transactions\n",
      "3. Filter Transactions\n",
      "4. View Summary\n",
      "5. Delete Transaction\n",
      "6. Exit\n"
     ]
    },
    {
     "name": "stdin",
     "output_type": "stream",
     "text": [
      "Choose an option (1-6):  4\n"
     ]
    },
    {
     "name": "stdout",
     "output_type": "stream",
     "text": [
      "\n",
      "--- Summary ---\n",
      "Total Income : Rs 58000.00\n",
      "Total Expense: Rs 11000.00\n",
      "Net Balance  : Rs 47000.00\n",
      "\n",
      "--- Budget Tracker Menu ---\n",
      "1. Add Transaction\n",
      "2. List All Transactions\n",
      "3. Filter Transactions\n",
      "4. View Summary\n",
      "5. Delete Transaction\n",
      "6. Exit\n"
     ]
    },
    {
     "name": "stdin",
     "output_type": "stream",
     "text": [
      "Choose an option (1-6):  6\n"
     ]
    },
    {
     "name": "stdout",
     "output_type": "stream",
     "text": [
      "Exiting... Transactions saved.\n"
     ]
    }
   ],
   "source": [
    "import os\n",
    "\n",
    "# Transaction class to represent each income/expense entry\n",
    "class Transaction:\n",
    "    def __init__(self, t_type, amount, category, note=\"\"):\n",
    "        self.t_type = t_type  # 'income' or 'expense'\n",
    "        self.amount = float(amount)  # Ensure amount is stored as float\n",
    "        self.category = category  # Category of transaction like Food, Salary etc.\n",
    "        self.note = note  # Optional note\n",
    "\n",
    "    def __str__(self):\n",
    "        # Human-readable representation of a transaction\n",
    "        return f\"{self.t_type.title()} | {self.amount:.2f} | {self.category} | {self.note}\"\n",
    "\n",
    "    def to_line(self):\n",
    "        # Convert transaction to a pipe-separated string to save in file\n",
    "        return f\"{self.t_type}|{self.amount}|{self.category}|{self.note}\\n\"\n",
    "\n",
    "    @staticmethod\n",
    "    def from_line(line):\n",
    "        # Convert a line from the file to a Transaction object\n",
    "        parts = line.strip().split(\"|\")\n",
    "        return Transaction(parts[0], parts[1], parts[2], parts[3] if len(parts) > 3 else \"\")\n",
    "\n",
    "\n",
    "# BudgetTracker class to manage all transaction-related functionality\n",
    "class BudgetTracker:\n",
    "    def __init__(self):\n",
    "        self.transactions = []  # List to hold all transactions in memory\n",
    "        self.filename = \"transactions.txt\"  # File to save/load data\n",
    "        self.load_transactions()  # Load existing transactions from file\n",
    "\n",
    "    def add_transaction(self):\n",
    "        # Take input for a new transaction and add to list\n",
    "        t_type = input(\"Enter type (income/expense): \").strip().lower()\n",
    "        if t_type not in (\"income\", \"expense\"):\n",
    "            print(\"Invalid type. Must be 'income' or 'expense'.\")\n",
    "            return\n",
    "\n",
    "        while True:\n",
    "            try:\n",
    "                amount = float(input(\"Enter amount: \").strip())\n",
    "            except ValueError:\n",
    "                print(\"Invalid amount. Must be a number.\")\n",
    "                continue\n",
    "\n",
    "            category = input(\"Enter category: \").strip()\n",
    "            note = input(\"Enter notes (optional): \").strip()\n",
    "            transaction = Transaction(t_type, amount, category, note)\n",
    "            self.transactions.append(transaction)\n",
    "            print(\"Transaction added successfully.\")\n",
    "\n",
    "            cont = input(f\"Do you want to add another {t_type}? (yes/no): \").strip().lower()\n",
    "            if cont != \"yes\":\n",
    "                break\n",
    "\n",
    "    def delete_transaction(self):\n",
    "        # Delete a transaction by index\n",
    "        if not self.transactions:\n",
    "            print(\"No transactions to delete.\")\n",
    "            return\n",
    "\n",
    "        print(\"\\nTransactions:\")\n",
    "        for i, txn in enumerate(self.transactions):\n",
    "            print(f\"{i + 1}. {txn}\")\n",
    "\n",
    "        try:\n",
    "            idx = int(input(\"Enter the transaction number to delete: \").strip())\n",
    "            if 1 <= idx <= len(self.transactions):\n",
    "                deleted = self.transactions.pop(idx - 1)\n",
    "                print(f\"Deleted transaction: {deleted}\")\n",
    "            else:\n",
    "                print(\"Invalid number.\")\n",
    "        except ValueError:\n",
    "            print(\"Invalid input. Please enter a number.\")\n",
    "\n",
    "    def list_transactions(self):\n",
    "        # Display all transactions\n",
    "        if not self.transactions:\n",
    "            print(\"No transactions recorded.\")\n",
    "            return\n",
    "        print(\"\\nAll Transactions:\")\n",
    "        for txn in self.transactions:\n",
    "            print(txn)\n",
    "\n",
    "    def filter_transactions(self):\n",
    "        # Filter transactions by type or category\n",
    "        filter_type = input(\"Filter by (type/category): \").strip().lower()\n",
    "        if filter_type == \"type\":\n",
    "            t_type = input(\"Enter type (income/expense): \").strip().lower()\n",
    "            filtered = [t for t in self.transactions if t.t_type == t_type]\n",
    "        elif filter_type == \"category\":\n",
    "            category = input(\"Enter category: \").strip()\n",
    "            filtered = [t for t in self.transactions if t.category == category]\n",
    "        else:\n",
    "            print(\"Invalid filter type.\")\n",
    "            return\n",
    "\n",
    "        if not filtered:\n",
    "            print(\"No matching transactions found.\")\n",
    "        else:\n",
    "            for txn in filtered:\n",
    "                print(txn)\n",
    "\n",
    "    def view_summary(self):\n",
    "        # Display total income, total expense, and net balance\n",
    "        total_income = sum(t.amount for t in self.transactions if t.t_type == \"income\")\n",
    "        total_expense = sum(t.amount for t in self.transactions if t.t_type == \"expense\")\n",
    "        net_balance = total_income - total_expense\n",
    "        print(\"\\n--- Summary ---\")\n",
    "        print(f\"Total Income : Rs {total_income:.2f}\")\n",
    "        print(f\"Total Expense: Rs {total_expense:.2f}\")\n",
    "        print(f\"Net Balance  : Rs {net_balance:.2f}\")\n",
    "\n",
    "    def save_transactions(self):\n",
    "        # Write all transactions to file\n",
    "        with open(self.filename, \"w\") as f:\n",
    "            for txn in self.transactions:\n",
    "                f.write(txn.to_line())\n",
    "\n",
    "    def load_transactions(self):\n",
    "        # Load transactions from file, if file exists\n",
    "        if not os.path.exists(self.filename):\n",
    "            return\n",
    "        with open(self.filename, \"r\") as f:\n",
    "            for line in f:\n",
    "                self.transactions.append(Transaction.from_line(line))\n",
    "\n",
    "    def run(self):\n",
    "        # Main loop to show menu and perform selected action\n",
    "        while True:\n",
    "            print(\"\\n--- Budget Tracker Menu ---\")\n",
    "            print(\"1. Add Transaction\")\n",
    "            print(\"2. List All Transactions\")\n",
    "            print(\"3. Filter Transactions\")\n",
    "            print(\"4. View Summary\")\n",
    "            print(\"5. Delete Transaction\")\n",
    "            print(\"6. Exit\")\n",
    "            choice = input(\"Choose an option (1-6): \").strip()\n",
    "\n",
    "            if choice == \"1\":\n",
    "                self.add_transaction()\n",
    "            elif choice == \"2\":\n",
    "                self.list_transactions()\n",
    "            elif choice == \"3\":\n",
    "                self.filter_transactions()\n",
    "            elif choice == \"4\":\n",
    "                self.view_summary()\n",
    "            elif choice == \"5\":\n",
    "                self.delete_transaction()\n",
    "            elif choice == \"6\":\n",
    "                self.save_transactions()\n",
    "                print(\"Exiting... Transactions saved.\")\n",
    "                break\n",
    "            else:\n",
    "                print(\"Invalid choice. Please try again.\")\n",
    "\n",
    "\n",
    "# Entry point of the script\n",
    "if __name__ == \"__main__\":\n",
    "    tracker = BudgetTracker()\n",
    "    tracker.run()\n"
   ]
  },
  {
   "cell_type": "code",
   "execution_count": null,
   "id": "536a8871-498e-4f03-93b4-f70bc914cfaf",
   "metadata": {},
   "outputs": [],
   "source": []
  }
 ],
 "metadata": {
  "kernelspec": {
   "display_name": "Python 3 (ipykernel)",
   "language": "python",
   "name": "python3"
  },
  "language_info": {
   "codemirror_mode": {
    "name": "ipython",
    "version": 3
   },
   "file_extension": ".py",
   "mimetype": "text/x-python",
   "name": "python",
   "nbconvert_exporter": "python",
   "pygments_lexer": "ipython3",
   "version": "3.11.7"
  }
 },
 "nbformat": 4,
 "nbformat_minor": 5
}
